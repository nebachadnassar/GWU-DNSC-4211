{
 "cells": [
  {
   "cell_type": "markdown",
   "metadata": {
    "id": "LZek1dcwR-8j"
   },
   "source": [
    "# ASSN_01"
   ]
  },
  {
   "cell_type": "markdown",
   "metadata": {
    "id": "RDMdmKQcSD1C"
   },
   "source": [
    "Please complete the following questions and tasks. When writing code, please provide answers in Python. Please provide all answers in this ipynb notebook. Readability of the code and questions will count for 10% of the assignment, so please comment and use Markdown to make the ipynb easy to read!\n",
    "\n",
    "Once completed, please turn this ipynb into the corrresponding assignment on `Blackboard`. `I WILL NOT ACCEPT FILES THAT ARE NOT IPYNB!!`\n",
    "\n",
    "In general the programs you write should work for any data passed in, not just the \"input\" given. For example, if I ask you to print all values in a list, if they are equal to 3 for the list - `l=[1,2,3,2,3]` the answer could be...\n",
    "```\n",
    "[print(i) for i in l if i==3]\n",
    "```\n",
    "But should **NOT** be...\n",
    "```\n",
    "print(l[2])\n",
    "print(l[[-1])\n",
    "```"
   ]
  },
  {
   "cell_type": "markdown",
   "metadata": {
    "id": "yLVsuJHCGCog"
   },
   "source": [
    "## Question #1\n",
    "Please research, explain and demonstrate common String formatting methods for Python. This will be crucial in creating clean and easy to read notebooks, but do not have time to teach in class. Python programming requires a lot of \"Google skill\", and this will be good practice for that. (You do not need to actually do anything here other than research!)\n",
    "  \n",
    "Python\n",
    "- String formatting methods (hint \"f strings\" and \"string format\")\n",
    "- How to format numbers to show dollars, rounding, percent etc  "
   ]
  },
  {
   "cell_type": "markdown",
   "metadata": {
    "id": "_a0-irGKC50L"
   },
   "source": [
    "```\n",
    "Add text below\n",
    "```"
   ]
  },
  {
   "cell_type": "markdown",
   "metadata": {
    "id": "48fK1XU8Sb_Y"
   },
   "source": [
    "## Question #2\n",
    "Given the following input list, write code to test if the first and last values are equivalent.\n",
    "- Python Input Data:\n",
    "```\n",
    "vals = [\"1\", \"1.3\", \"1B\", \"4\", \"tent\"]\n",
    "```\n"
   ]
  },
  {
   "cell_type": "code",
   "execution_count": null,
   "metadata": {
    "id": "NL-D5Df-J-g1"
   },
   "outputs": [],
   "source": []
  },
  {
   "cell_type": "markdown",
   "metadata": {
    "id": "Klw38yhSSdXZ"
   },
   "source": [
    "## Question #3\n",
    "Given a list/vector of values, write code to count the instances of each unique value and store them in a data structure (hint… a dictionary will be helpful).\n",
    "For example, if a list has 3 instances of 10.... the data structure should show {10: 3}\n",
    " - Python Input Data: [1,1,10,4,5,4,8,1,1,9,10,3, 3, 4, 1, 10, 11]\n"
   ]
  },
  {
   "cell_type": "code",
   "execution_count": null,
   "metadata": {
    "colab": {
     "base_uri": "https://localhost:8080/"
    },
    "executionInfo": {
     "elapsed": 214,
     "status": "ok",
     "timestamp": 1693429213672,
     "user": {
      "displayName": "Ned Hulseman",
      "userId": "09257865270106672986"
     },
     "user_tz": 240
    },
    "id": "IdcKnbF7Sdf_",
    "outputId": "4b26a09e-af22-4766-ad09-0c991f178166"
   },
   "outputs": [],
   "source": []
  },
  {
   "cell_type": "markdown",
   "metadata": {
    "id": "wIO_8yVrSdny"
   },
   "source": [
    "## Question #4\n",
    "Write a Python program to find those numbers which are divisible by both 7 and  5, between 1 and 10,000 (inclusive)."
   ]
  },
  {
   "cell_type": "code",
   "execution_count": null,
   "metadata": {
    "id": "nAyAlbdZSdvF"
   },
   "outputs": [],
   "source": []
  },
  {
   "cell_type": "markdown",
   "metadata": {
    "id": "V4JtICaYSd2Y"
   },
   "source": [
    "## Question #5\n",
    "Given the following input lists/vector in Python, Answer the following questions for Python\n",
    "\n",
    "- Python input:\n",
    "```\n",
    "vals = [1, 10, None, 45, 3, None, 8]\n",
    "```\n"
   ]
  },
  {
   "cell_type": "markdown",
   "metadata": {
    "id": "07QKy6AJS3pK"
   },
   "source": [
    "### 5a.\n",
    "What happens if you sum the list/vector containing null values?"
   ]
  },
  {
   "cell_type": "code",
   "execution_count": null,
   "metadata": {
    "id": "7vboqdVJWbGS"
   },
   "outputs": [],
   "source": []
  },
  {
   "cell_type": "markdown",
   "metadata": {
    "id": "sCl-o6fPS34P"
   },
   "source": [
    "### 5b.\n",
    "Using the list from the previous question, create a new list of Boolean values that contains boolean values(or null) and is true if an item is equal to 3.\n",
    "\n",
    "Python output should be:\n",
    "```\n",
    "[False, False, False, False, True, False, False]\n",
    "```\n"
   ]
  },
  {
   "cell_type": "code",
   "execution_count": null,
   "metadata": {
    "id": "Yf4hlqKsWfEw"
   },
   "outputs": [],
   "source": []
  },
  {
   "cell_type": "markdown",
   "metadata": {
    "id": "Ssp3S9IpS4Hn"
   },
   "source": [
    "### 5c.\n",
    "Write a Program to count the number of null **values**, without using any Python built-in functions."
   ]
  },
  {
   "cell_type": "code",
   "execution_count": null,
   "metadata": {
    "id": "rKpWzXgMYlk1"
   },
   "outputs": [],
   "source": []
  },
  {
   "cell_type": "markdown",
   "metadata": {
    "id": "-FCZzpyWS4XA"
   },
   "source": [
    "### 5d.\n",
    "Create a new list/vector with the null values removed. Hint... a For-loop with an if-statement will be useful."
   ]
  },
  {
   "cell_type": "code",
   "execution_count": null,
   "metadata": {
    "id": "WNgknx95YlB9"
   },
   "outputs": [],
   "source": []
  },
  {
   "cell_type": "markdown",
   "metadata": {
    "id": "SXb9CoA-SDQk"
   },
   "source": [
    "## Question #6\n",
    "De-bug the following blocks of code. Please document in comments what you changed and why.... What type of error is each?"
   ]
  },
  {
   "cell_type": "code",
   "execution_count": null,
   "metadata": {
    "id": "c1cAtypWUww1"
   },
   "outputs": [],
   "source": [
    "  capitals =\n",
    "    \"Maryland\" == \"Annapolis\"\n",
    "    \"California\": NA,\n",
    "    \"New York\": \"Sacramento,\n",
    "    \"Utah'': \"Albany\",\n",
    "    \"Alabama\": \"Salt Lake City\"\n",
    "  }\n",
    "  print(capitals[\"Utah'])\n",
    "\n",
    "  #-- print the keys of the dictionary\n",
    "print(capitals.keys)\n",
    "\n",
    "#-- Print the State and Capitals\n",
    "for state, city in capitals.items():\n",
    "  print(f\"The capital of {state} is {city}.\")\n"
   ]
  },
  {
   "cell_type": "markdown",
   "metadata": {
    "id": "1ggVO0zUUw_L"
   },
   "source": [
    "## Question #7\n",
    "Given the below input data types in Python, convert the following hash (dictionary) into a list that all have the same denomination. e.g. if a number is \"1\" in thousands, turn it into 1,000.\n",
    "- Python: {10: \"thousands\", 1000: \"ones\", .0005: \"millions\", .000000324234: \"trillions\"}\n",
    "\n",
    "\n",
    "\n",
    "Example Output:\n",
    "```\n",
    "[10000, 1000, 500, 324234]\n",
    "```\n"
   ]
  },
  {
   "cell_type": "code",
   "execution_count": null,
   "metadata": {
    "id": "MnwZ9RXLUxNP"
   },
   "outputs": [],
   "source": []
  },
  {
   "cell_type": "markdown",
   "metadata": {
    "id": "l1r535MTUxVU"
   },
   "source": [
    "## Question #8\n",
    "Write a block of code, that finds and prints the largest value in a list. Please do not use any built-in functions, and the code should generalize well if the list inputs changed. This would include lists with different data, and lists of different length.\n"
   ]
  },
  {
   "cell_type": "code",
   "execution_count": null,
   "metadata": {
    "id": "UYs2LeYdgsG1"
   },
   "outputs": [],
   "source": [
    "list_of_numbers = [1000,3213,2323,2312,2323]"
   ]
  },
  {
   "cell_type": "code",
   "execution_count": null,
   "metadata": {
    "id": "ctEn6RA-gsJa"
   },
   "outputs": [],
   "source": [
    "#-- Write code here!\n"
   ]
  },
  {
   "cell_type": "markdown",
   "metadata": {
    "id": "3YdyL-FlUxlM"
   },
   "source": [
    "## Question #9\n",
    "Write a block of code to determine if a given input number is a prime number. If the number is a prime number, print \"number is a prime number\" otherwise print \"number is not a prime number\"\n"
   ]
  },
  {
   "cell_type": "code",
   "execution_count": null,
   "metadata": {
    "executionInfo": {
     "elapsed": 181,
     "status": "ok",
     "timestamp": 1725396085842,
     "user": {
      "displayName": "Ned Hulseman",
      "userId": "09257865270106672986"
     },
     "user_tz": 240
    },
    "id": "1CrMm8tzhfX3"
   },
   "outputs": [],
   "source": [
    "input_num = 97"
   ]
  },
  {
   "cell_type": "code",
   "execution_count": null,
   "metadata": {
    "executionInfo": {
     "elapsed": 153,
     "status": "ok",
     "timestamp": 1725396251867,
     "user": {
      "displayName": "Ned Hulseman",
      "userId": "09257865270106672986"
     },
     "user_tz": 240
    },
    "id": "j9HXRH3CiZ_8"
   },
   "outputs": [],
   "source": []
  },
  {
   "cell_type": "markdown",
   "metadata": {
    "id": "5xKamnqKtGUy"
   },
   "source": [
    "## Question #10\n",
    "Taking in a list of multiple data types, sort the data in to a dictionary by the data type. The dictionary should consist of keys that correspond to a data type (e.g. int, float, str etc., the type/typeof functions should be useful), the values should be a list of all of the values of that data type\n",
    "- Python: [\"hey\", 10, True, None, 23.43, 10.2, \"second\", 11,12, False, None]\n"
   ]
  },
  {
   "cell_type": "code",
   "execution_count": null,
   "metadata": {
    "id": "1rmdOKw6tGgh"
   },
   "outputs": [],
   "source": []
  }
 ],
 "metadata": {
  "colab": {
   "authorship_tag": "ABX9TyNQfaJhKoSb8eUS7u3DC3wx",
   "provenance": [],
   "toc_visible": true
  },
  "kernelspec": {
   "display_name": "Python 3 (ipykernel)",
   "language": "python",
   "name": "python3"
  },
  "language_info": {
   "codemirror_mode": {
    "name": "ipython",
    "version": 3
   },
   "file_extension": ".py",
   "mimetype": "text/x-python",
   "name": "python",
   "nbconvert_exporter": "python",
   "pygments_lexer": "ipython3",
   "version": "3.10.12"
  }
 },
 "nbformat": 4,
 "nbformat_minor": 4
}
