{
 "cells": [
  {
   "cell_type": "code",
   "execution_count": null,
   "metadata": {
    "id": "ScVBYmMohZS2"
   },
   "outputs": [],
   "source": [
    "%load_ext rpy2.ipython"
   ]
  },
  {
   "cell_type": "markdown",
   "metadata": {
    "id": "D5lt35flhbT-"
   },
   "source": [
    "# Class 1: In-Class Exercises"
   ]
  },
  {
   "cell_type": "markdown",
   "metadata": {
    "id": "nel2-8LFRjsd"
   },
   "source": [
    "## 1.2 Operators"
   ]
  },
  {
   "cell_type": "markdown",
   "metadata": {
    "id": "9TVhJu1DRm8y"
   },
   "source": [
    "Print the result of 7 raised to the 11th power"
   ]
  },
  {
   "cell_type": "code",
   "execution_count": null,
   "metadata": {
    "colab": {
     "base_uri": "https://localhost:8080/"
    },
    "executionInfo": {
     "elapsed": 152,
     "status": "ok",
     "timestamp": 1724795345307,
     "user": {
      "displayName": "Ned Hulseman",
      "userId": "09257865270106672986"
     },
     "user_tz": 240
    },
    "id": "3icJYG1KRjBA",
    "outputId": "a2365733-77db-4fd3-c74d-8547ae971d6b"
   },
   "outputs": [
    {
     "name": "stdout",
     "output_type": "stream",
     "text": [
      "1977326743\n"
     ]
    }
   ],
   "source": [
    "print(7**11)"
   ]
  },
  {
   "cell_type": "markdown",
   "metadata": {
    "id": "3oZtRohOSW-e"
   },
   "source": [
    "Use a comparison operator to test if 7^11 is larger than 11^7"
   ]
  },
  {
   "cell_type": "code",
   "execution_count": null,
   "metadata": {
    "colab": {
     "base_uri": "https://localhost:8080/"
    },
    "executionInfo": {
     "elapsed": 144,
     "status": "ok",
     "timestamp": 1724795372315,
     "user": {
      "displayName": "Ned Hulseman",
      "userId": "09257865270106672986"
     },
     "user_tz": 240
    },
    "id": "vP0RXTKwRjDR",
    "outputId": "2d805e87-f377-4ba6-b624-c2f48907fc3a"
   },
   "outputs": [
    {
     "data": {
      "text/plain": [
       "True"
      ]
     },
     "execution_count": 2,
     "metadata": {},
     "output_type": "execute_result"
    }
   ],
   "source": [
    "7**11 >= 11**7"
   ]
  },
  {
   "cell_type": "markdown",
   "metadata": {
    "id": "nhZjokgCShCP"
   },
   "source": [
    "Test if 10.0 (float) is larger than 10 (int)"
   ]
  },
  {
   "cell_type": "code",
   "execution_count": null,
   "metadata": {
    "colab": {
     "base_uri": "https://localhost:8080/"
    },
    "executionInfo": {
     "elapsed": 156,
     "status": "ok",
     "timestamp": 1724795382283,
     "user": {
      "displayName": "Ned Hulseman",
      "userId": "09257865270106672986"
     },
     "user_tz": 240
    },
    "id": "Xq7quyQYRjFo",
    "outputId": "c03b07ad-2e2c-442d-f285-661df2f6e28d"
   },
   "outputs": [
    {
     "data": {
      "text/plain": [
       "False"
      ]
     },
     "execution_count": 3,
     "metadata": {},
     "output_type": "execute_result"
    }
   ],
   "source": [
    "10.0 > 10"
   ]
  },
  {
   "cell_type": "markdown",
   "metadata": {
    "id": "jvty3NWhVSG1"
   },
   "source": [
    "What happens if you run the following?\n",
    "```\n",
    "\"10\" * 10\n",
    "```"
   ]
  },
  {
   "cell_type": "code",
   "execution_count": null,
   "metadata": {
    "colab": {
     "base_uri": "https://localhost:8080/",
     "height": 35
    },
    "executionInfo": {
     "elapsed": 143,
     "status": "ok",
     "timestamp": 1724795390301,
     "user": {
      "displayName": "Ned Hulseman",
      "userId": "09257865270106672986"
     },
     "user_tz": 240
    },
    "id": "bu5zSQIWVZlY",
    "outputId": "d29839ba-ac17-4b41-a47c-22b93a27aa33"
   },
   "outputs": [
    {
     "data": {
      "application/vnd.google.colaboratory.intrinsic+json": {
       "type": "string"
      },
      "text/plain": [
       "'10101010101010101010'"
      ]
     },
     "execution_count": 4,
     "metadata": {},
     "output_type": "execute_result"
    }
   ],
   "source": [
    "\"10\" * 10"
   ]
  },
  {
   "cell_type": "markdown",
   "metadata": {
    "id": "nyRGG6tYVaSQ"
   },
   "source": [
    "What about... why does this happen?\n",
    "```\n",
    "10 == \"10\"\n",
    "```"
   ]
  },
  {
   "cell_type": "code",
   "execution_count": null,
   "metadata": {
    "colab": {
     "base_uri": "https://localhost:8080/"
    },
    "executionInfo": {
     "elapsed": 162,
     "status": "ok",
     "timestamp": 1724795429540,
     "user": {
      "displayName": "Ned Hulseman",
      "userId": "09257865270106672986"
     },
     "user_tz": 240
    },
    "id": "GpHzn7HRViJw",
    "outputId": "4ad4d55a-a306-497d-be07-9aba0598f24f"
   },
   "outputs": [
    {
     "data": {
      "text/plain": [
       "False"
      ]
     },
     "execution_count": 5,
     "metadata": {},
     "output_type": "execute_result"
    }
   ],
   "source": [
    "10 == \"10\""
   ]
  },
  {
   "cell_type": "markdown",
   "metadata": {
    "id": "oLthrcXJSpFW"
   },
   "source": [
    "## 1.3 Variables, Data Types, & Data Structures"
   ]
  },
  {
   "cell_type": "markdown",
   "metadata": {
    "id": "142fdfyTUlB8"
   },
   "source": [
    "Create a variable called `num` and assign the value 10 to it. Add 10 to `num`. Print the result."
   ]
  },
  {
   "cell_type": "code",
   "execution_count": null,
   "metadata": {
    "id": "uzaY1jVYRjH9"
   },
   "outputs": [],
   "source": [
    "num = 10\n",
    "num = num + 10\n",
    "print(num)"
   ]
  },
  {
   "cell_type": "markdown",
   "metadata": {
    "id": "V2spsdKiVFD0"
   },
   "source": [
    "Copy the following variable declartion into the cell below. Change the data type to String and print the data type.\n",
    "```\n",
    "num = 10.0\n",
    "```"
   ]
  },
  {
   "cell_type": "code",
   "execution_count": null,
   "metadata": {
    "id": "2_nHJeliV188"
   },
   "outputs": [],
   "source": [
    "num = 10.0\n",
    "num = str(num)"
   ]
  },
  {
   "cell_type": "markdown",
   "metadata": {
    "id": "c4jD64BuVn0z"
   },
   "source": [
    "Create the following list and print the first item in the list. Would this be `indexing` or `slicing`?\n",
    "```\n",
    "l = [\"a\", \"b\", \"c\", \"d\", \"a\"]\n",
    "```"
   ]
  },
  {
   "cell_type": "code",
   "execution_count": null,
   "metadata": {
    "colab": {
     "base_uri": "https://localhost:8080/"
    },
    "executionInfo": {
     "elapsed": 318,
     "status": "ok",
     "timestamp": 1725400008690,
     "user": {
      "displayName": "Ned Hulseman",
      "userId": "09257865270106672986"
     },
     "user_tz": 240
    },
    "id": "lS3xOALoRjKD",
    "outputId": "a4357901-0c48-4cfb-ecc1-9f3dd196dca8"
   },
   "outputs": [
    {
     "name": "stdout",
     "output_type": "stream",
     "text": [
      "a\n"
     ]
    }
   ],
   "source": [
    "l = [\"a\", \"b\", \"c\", \"d\", \"a\"]\n",
    "print(l[0])"
   ]
  },
  {
   "cell_type": "markdown",
   "metadata": {
    "id": "_8Y3DJnoV8dt"
   },
   "source": [
    "Using the same list as above, print the first 3 items. Would this be `indexing` or `slicing`?"
   ]
  },
  {
   "cell_type": "code",
   "execution_count": null,
   "metadata": {
    "colab": {
     "base_uri": "https://localhost:8080/"
    },
    "executionInfo": {
     "elapsed": 322,
     "status": "ok",
     "timestamp": 1725400010144,
     "user": {
      "displayName": "Ned Hulseman",
      "userId": "09257865270106672986"
     },
     "user_tz": 240
    },
    "id": "ZmIYHmLXRjMa",
    "outputId": "387173ea-a2bc-4dff-8390-8c43d9205cc5"
   },
   "outputs": [
    {
     "data": {
      "text/plain": [
       "['a', 'b', 'c']"
      ]
     },
     "execution_count": 6,
     "metadata": {},
     "output_type": "execute_result"
    }
   ],
   "source": [
    "l[0:3]"
   ]
  },
  {
   "cell_type": "markdown",
   "metadata": {
    "id": "FtL1DjRBWM8u"
   },
   "source": [
    "Using the same list, and using `comparison operators` and `list indexing`, test if the first and last values of the list are the same?"
   ]
  },
  {
   "cell_type": "code",
   "execution_count": null,
   "metadata": {
    "colab": {
     "base_uri": "https://localhost:8080/"
    },
    "executionInfo": {
     "elapsed": 286,
     "status": "ok",
     "timestamp": 1725400024849,
     "user": {
      "displayName": "Ned Hulseman",
      "userId": "09257865270106672986"
     },
     "user_tz": 240
    },
    "id": "WMzZPnAqRjOe",
    "outputId": "40bb513b-ff85-4640-fb6d-67f14065b249"
   },
   "outputs": [
    {
     "data": {
      "text/plain": [
       "True"
      ]
     },
     "execution_count": 7,
     "metadata": {},
     "output_type": "execute_result"
    }
   ],
   "source": [
    "l[0] == l[-1]"
   ]
  },
  {
   "cell_type": "markdown",
   "metadata": {
    "id": "AU0FyEOMWd2W"
   },
   "source": [
    "Using a dictionary, to create key value pairs for the capitals of Virginia, Maryland, and North Carolina. The `keys` should be states, the `values` should be capitals."
   ]
  },
  {
   "cell_type": "code",
   "execution_count": null,
   "metadata": {
    "id": "CQCkk6mCWvUu"
   },
   "outputs": [],
   "source": [
    "d= {\n",
    "    \"Virginia\":\"Richmond\",\n",
    "    \"Maryland\":\"Annapolis\",\n",
    "    \"North Carolina\":\"Raleigh\",\n",
    "}"
   ]
  },
  {
   "cell_type": "markdown",
   "metadata": {
    "id": "dgI4-ah2W3kw"
   },
   "source": [
    "##1.4 Control Flows"
   ]
  },
  {
   "cell_type": "markdown",
   "metadata": {
    "id": "TMptJ29XEJYu"
   },
   "source": [
    "Finish the following code block to complete the following objective:\n",
    "- Given 2 numbers (num1, num2), print their product if the product is less than 100, else print the sum.\n"
   ]
  },
  {
   "cell_type": "code",
   "execution_count": null,
   "metadata": {
    "id": "ODKBrMPGEJ-r"
   },
   "outputs": [],
   "source": [
    "num1 = 5\n",
    "num2 = 10\n",
    "product = num1 * num2\n",
    "\n",
    "if #-- Add code here!\n",
    "  print(\"product is too large\")\n",
    "  print(num1 + num2)\n",
    "else:\n",
    "  print(product)\n"
   ]
  },
  {
   "cell_type": "markdown",
   "metadata": {
    "id": "3uU3ns5PFIqY"
   },
   "source": [
    "Complete the following code:\n",
    "- Use a for-loop to print a number in a list, only if it is odd.\n"
   ]
  },
  {
   "cell_type": "code",
   "execution_count": null,
   "metadata": {
    "id": "BaDCsoq-15FJ"
   },
   "outputs": [],
   "source": [
    "numbers = [1,2,3,4,5,6,7,8,9,10,11,12,13,14]\n"
   ]
  },
  {
   "cell_type": "code",
   "execution_count": null,
   "metadata": {
    "colab": {
     "base_uri": "https://localhost:8080/"
    },
    "executionInfo": {
     "elapsed": 413,
     "status": "ok",
     "timestamp": 1725400117531,
     "user": {
      "displayName": "Ned Hulseman",
      "userId": "09257865270106672986"
     },
     "user_tz": 240
    },
    "id": "X1PnhtWx37j8",
    "outputId": "1962982a-7935-4685-ed4d-4409e01b232c"
   },
   "outputs": [
    {
     "name": "stdout",
     "output_type": "stream",
     "text": [
      "1\n",
      "3\n",
      "5\n",
      "7\n",
      "9\n",
      "11\n",
      "13\n"
     ]
    }
   ],
   "source": [
    "for i in numbers:\n",
    "  if i%2!=0:\n",
    "    print(i)"
   ]
  },
  {
   "cell_type": "code",
   "execution_count": null,
   "metadata": {
    "id": "XrvtKtTWFI0x"
   },
   "outputs": [],
   "source": [
    "numbers = [1,2,3,4,5,6,7,8,9,10,11,12,13,14]\n",
    "odd_number = []\n",
    "for i in numbers:\n",
    "  ##################\n",
    "  ##################\n",
    "  #### Add Code here\n",
    "  ### Hint! If-statement will be useful\n",
    "  if i%2!=0:\n",
    "    odd_number.append(i)\n",
    "\n",
    "  ##################\n",
    "  ##################\n"
   ]
  },
  {
   "cell_type": "markdown",
   "metadata": {
    "id": "v9NGzPybD4R5"
   },
   "source": [
    "Given 2 dictionaries (AL_teams, and NL_teams), use a for-loop(s) to combine the dictionaries into a single dictionary of MLB_teams with all of the information from AL_teams and NL_teams."
   ]
  },
  {
   "cell_type": "code",
   "execution_count": 2,
   "metadata": {
    "colab": {
     "base_uri": "https://localhost:8080/"
    },
    "executionInfo": {
     "elapsed": 261,
     "status": "ok",
     "timestamp": 1736881399227,
     "user": {
      "displayName": "Ned Hulseman",
      "userId": "09257865270106672986"
     },
     "user_tz": 300
    },
    "id": "Y8-rg3ORDf84",
    "outputId": "b50673fb-cdcc-4276-9318-c631df375b77"
   },
   "outputs": [
    {
     "name": "stdout",
     "output_type": "stream",
     "text": [
      "{'Boston': 'Redsox', 'Baltimore': 'Orioles', 'Tampa Bay': 'Rays', 'Atlanta': 'Braves', 'Washington': 'Nationals', 'New York': 'Mets'}\n"
     ]
    }
   ],
   "source": [
    "AL_Teams = {\n",
    "    \"Boston\"   : \"Redsox\",\n",
    "    \"Baltimore\": \"Orioles\",\n",
    "    \"Tampa Bay\": \"Rays\"\n",
    "}\n",
    "NL_Teams = {\n",
    "    \"Atlanta\"   : \"Braves\",\n",
    "    \"Washington\": \"Nationals\",\n",
    "    \"New York\"  : \"Mets\"\n",
    "}\n",
    "MLB_teams = {}\n",
    "### For-loop(s) here!\n",
    "for al in AL_Teams.keys():\n",
    "  MLB_teams[al] = AL_Teams[al]\n",
    "for nl in NL_Teams.keys():\n",
    "  MLB_teams[nl] = NL_Teams[nl]\n",
    "\n",
    "\n",
    "\n",
    "\n",
    "#####\n",
    "print(MLB_teams)"
   ]
  },
  {
   "cell_type": "markdown",
   "metadata": {
    "id": "i8yX_k6SXExR"
   },
   "source": [
    "Use a for-loop to calculate the average of the following list. Do not use any built-in functions.\n",
    "\n",
    "Find the avg of the numbers in the list, \"numbers\" and save the result to the variable \"avg\""
   ]
  },
  {
   "cell_type": "code",
   "execution_count": 3,
   "metadata": {
    "colab": {
     "base_uri": "https://localhost:8080/"
    },
    "executionInfo": {
     "elapsed": 281,
     "status": "ok",
     "timestamp": 1736881440742,
     "user": {
      "displayName": "Ned Hulseman",
      "userId": "09257865270106672986"
     },
     "user_tz": 300
    },
    "id": "mdFBAjfTXFPx",
    "outputId": "bb156820-e829-49ad-ec1b-df1ff408c1f9"
   },
   "outputs": [
    {
     "name": "stdout",
     "output_type": "stream",
     "text": [
      "36.4\n"
     ]
    }
   ],
   "source": [
    "numbers = [40, 30, 100, 5, 7]\n",
    "avg = None\n",
    "##################\n",
    "##################\n",
    "#### add code here\n",
    "count = 0\n",
    "sum = 0\n",
    "for num in numbers:\n",
    "  count = count + 1\n",
    "  sum = sum + num\n",
    "avg = sum / count\n",
    "\n",
    "##################\n",
    "##################\n",
    "print(avg)"
   ]
  }
 ],
 "metadata": {
  "colab": {
   "authorship_tag": "ABX9TyOL2xCuabFMX199fWAqDuth",
   "provenance": [
    {
     "file_id": "1t2Z8QTcLjAzpN47DGRC1h6laklcYhQOC",
     "timestamp": 1693146243827
    },
    {
     "file_id": "1zDalJsXhFhJ1VQIB9mqSSXuk8kG-aNGK",
     "timestamp": 1692753158055
    }
   ],
   "toc_visible": true
  },
  "kernelspec": {
   "display_name": "Python 3 (ipykernel)",
   "language": "python",
   "name": "python3"
  },
  "language_info": {
   "codemirror_mode": {
    "name": "ipython",
    "version": 3
   },
   "file_extension": ".py",
   "mimetype": "text/x-python",
   "name": "python",
   "nbconvert_exporter": "python",
   "pygments_lexer": "ipython3",
   "version": "3.10.12"
  }
 },
 "nbformat": 4,
 "nbformat_minor": 4
}
