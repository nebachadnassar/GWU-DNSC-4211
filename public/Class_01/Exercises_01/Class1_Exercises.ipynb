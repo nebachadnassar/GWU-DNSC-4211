{
 "cells": [
  {
   "cell_type": "markdown",
   "metadata": {
    "id": "D5lt35flhbT-"
   },
   "source": [
    "# Class 1: In-Class Exercises"
   ]
  },
  {
   "cell_type": "markdown",
   "metadata": {
    "id": "nel2-8LFRjsd"
   },
   "source": [
    "## 1.2 Operators"
   ]
  },
  {
   "cell_type": "markdown",
   "metadata": {
    "id": "9TVhJu1DRm8y"
   },
   "source": [
    "Print the result of 7 raised to the 11th power"
   ]
  },
  {
   "cell_type": "code",
   "execution_count": null,
   "metadata": {
    "id": "3icJYG1KRjBA"
   },
   "outputs": [],
   "source": []
  },
  {
   "cell_type": "markdown",
   "metadata": {
    "id": "3oZtRohOSW-e"
   },
   "source": [
    "Use a comparison operator to test if 7^11 is larger than 11^7"
   ]
  },
  {
   "cell_type": "code",
   "execution_count": null,
   "metadata": {
    "id": "vP0RXTKwRjDR"
   },
   "outputs": [],
   "source": []
  },
  {
   "cell_type": "markdown",
   "metadata": {
    "id": "nhZjokgCShCP"
   },
   "source": [
    "Test if 10.0 (float) is larger than 10 (int)"
   ]
  },
  {
   "cell_type": "code",
   "execution_count": null,
   "metadata": {
    "id": "Xq7quyQYRjFo"
   },
   "outputs": [],
   "source": []
  },
  {
   "cell_type": "markdown",
   "metadata": {
    "id": "jvty3NWhVSG1"
   },
   "source": [
    "What happens if you run the following?\n",
    "```\n",
    "\"10\" * 10\n",
    "```"
   ]
  },
  {
   "cell_type": "code",
   "execution_count": null,
   "metadata": {
    "id": "bu5zSQIWVZlY"
   },
   "outputs": [],
   "source": []
  },
  {
   "cell_type": "markdown",
   "metadata": {
    "id": "nyRGG6tYVaSQ"
   },
   "source": [
    "What about... why does this happen?\n",
    "```\n",
    "10 == \"10\"\n",
    "```"
   ]
  },
  {
   "cell_type": "code",
   "execution_count": null,
   "metadata": {
    "id": "GpHzn7HRViJw"
   },
   "outputs": [],
   "source": []
  },
  {
   "cell_type": "markdown",
   "metadata": {
    "id": "oLthrcXJSpFW"
   },
   "source": [
    "## 1.3 Variables, Data Types, & Data Structures"
   ]
  },
  {
   "cell_type": "markdown",
   "metadata": {
    "id": "142fdfyTUlB8"
   },
   "source": [
    "Create a variable called `num` and assign the value 10 to it. Add 10 to `num`. Print the result."
   ]
  },
  {
   "cell_type": "code",
   "execution_count": null,
   "metadata": {
    "id": "uzaY1jVYRjH9"
   },
   "outputs": [],
   "source": []
  },
  {
   "cell_type": "markdown",
   "metadata": {
    "id": "V2spsdKiVFD0"
   },
   "source": [
    "Copy the following variable declartion into the cell below. Change the data type to String and print the data type.\n",
    "```\n",
    "num = 10.0\n",
    "```"
   ]
  },
  {
   "cell_type": "code",
   "execution_count": null,
   "metadata": {
    "id": "2_nHJeliV188"
   },
   "outputs": [],
   "source": []
  },
  {
   "cell_type": "markdown",
   "metadata": {
    "id": "c4jD64BuVn0z"
   },
   "source": [
    "Create the following list and print the first item in the list. Would this be `indexing` or `slicing`?\n",
    "```\n",
    "l = [\"a\", \"b\", \"c\", \"d\", \"a\"]\n",
    "```"
   ]
  },
  {
   "cell_type": "code",
   "execution_count": null,
   "metadata": {
    "id": "lS3xOALoRjKD"
   },
   "outputs": [],
   "source": []
  },
  {
   "cell_type": "markdown",
   "metadata": {
    "id": "_8Y3DJnoV8dt"
   },
   "source": [
    "Using the same list as above, print the first 3 items. Would this be `indexing` or `slicing`?"
   ]
  },
  {
   "cell_type": "code",
   "execution_count": null,
   "metadata": {
    "id": "ZmIYHmLXRjMa"
   },
   "outputs": [],
   "source": []
  },
  {
   "cell_type": "markdown",
   "metadata": {
    "id": "FtL1DjRBWM8u"
   },
   "source": [
    "Using the same list, and using `comparison operators` and `list indexing`, test if the first and last values of the list are the same?"
   ]
  },
  {
   "cell_type": "code",
   "execution_count": null,
   "metadata": {
    "id": "WMzZPnAqRjOe"
   },
   "outputs": [],
   "source": []
  },
  {
   "cell_type": "markdown",
   "metadata": {
    "id": "AU0FyEOMWd2W"
   },
   "source": [
    "Using a dictionary, to create key value pairs for the capitals of Virginia, Maryland, and North Carolina. The `keys` should be states, the `values` should be capitals."
   ]
  },
  {
   "cell_type": "code",
   "execution_count": null,
   "metadata": {
    "id": "CQCkk6mCWvUu"
   },
   "outputs": [],
   "source": []
  },
  {
   "cell_type": "markdown",
   "metadata": {
    "id": "dgI4-ah2W3kw"
   },
   "source": [
    "## 1.4 Control Flows"
   ]
  },
  {
   "cell_type": "markdown",
   "metadata": {
    "id": "TMptJ29XEJYu"
   },
   "source": [
    "Finish the following code block to complete the following objective:\n",
    "- Given 2 numbers (num1, num2), print their product if the product is less than 100, else print the sum.\n"
   ]
  },
  {
   "cell_type": "code",
   "execution_count": null,
   "metadata": {
    "id": "ODKBrMPGEJ-r"
   },
   "outputs": [],
   "source": [
    "num1 = 5\n",
    "num2 = 10\n",
    "product = num1 * num2\n",
    "\n",
    "if #-- Add code here!\n",
    "\n"
   ]
  },
  {
   "cell_type": "markdown",
   "metadata": {
    "id": "3uU3ns5PFIqY"
   },
   "source": [
    "Complete the following code:\n",
    "- Use a for-loop to print a number in a list, only if it is odd.\n"
   ]
  },
  {
   "cell_type": "code",
   "execution_count": null,
   "metadata": {
    "id": "BaDCsoq-15FJ"
   },
   "outputs": [],
   "source": [
    "numbers = [1,2,3,4,5,6,7,8,9,10,11,12,13,14]\n"
   ]
  },
  {
   "cell_type": "code",
   "execution_count": null,
   "metadata": {
    "id": "X1PnhtWx37j8"
   },
   "outputs": [],
   "source": []
  },
  {
   "cell_type": "code",
   "execution_count": null,
   "metadata": {
    "id": "XrvtKtTWFI0x"
   },
   "outputs": [],
   "source": [
    "numbers = [1,2,3,4,5,6,7,8,9,10,11,12,13,14]\n",
    "odd_number = []\n",
    "for i in numbers:\n",
    "  ##################\n",
    "  ##################\n",
    "  #### Add Code here\n",
    "  ### Hint! If-statement will be useful\n",
    "\n",
    "\n",
    "  ##################\n",
    "  ##################\n"
   ]
  },
  {
   "cell_type": "markdown",
   "metadata": {
    "id": "v9NGzPybD4R5"
   },
   "source": [
    "Given 2 dictionaries (AL_teams, and NL_teams), use a for-loop(s) to combine the dictionaries into a single dictionary of MLB_teams with all of the information from AL_teams and NL_teams."
   ]
  },
  {
   "cell_type": "code",
   "execution_count": null,
   "metadata": {
    "id": "Y8-rg3ORDf84"
   },
   "outputs": [],
   "source": [
    "AL_Teams = {\n",
    "    \"Boston\"   : \"Redsox\",\n",
    "    \"Baltimore\": \"Orioles\",\n",
    "    \"Tampa Bay\": \"Rays\"\n",
    "}\n",
    "NL_Teams = {\n",
    "    \"Atlanta\"   : \"Braves\",\n",
    "    \"Washington\": \"Nationals\",\n",
    "    \"New York\"  : \"Mets\"\n",
    "}\n",
    "MLB_teams = {}\n",
    "### For-loop(s) here!\n",
    "\n",
    "\n",
    "\n",
    "\n",
    "\n",
    "#####\n",
    "print(MLB_teams)"
   ]
  },
  {
   "cell_type": "markdown",
   "metadata": {
    "id": "i8yX_k6SXExR"
   },
   "source": [
    "Use a for-loop to calculate the average of the following list. Do not use any built-in functions.\n",
    "\n",
    "Find the avg of the numbers in the list, \"numbers\" and save the result to the variable \"avg\""
   ]
  },
  {
   "cell_type": "code",
   "execution_count": null,
   "metadata": {
    "id": "mdFBAjfTXFPx"
   },
   "outputs": [],
   "source": [
    "numbers = [40, 30, 100, 5, 7]\n",
    "avg = None\n",
    "##################\n",
    "##################\n",
    "#### add code here\n",
    "\n",
    "\n",
    "##################\n",
    "##################\n",
    "print(avg)"
   ]
  }
 ],
 "metadata": {
  "colab": {
   "provenance": [
    {
     "file_id": "1t2Z8QTcLjAzpN47DGRC1h6laklcYhQOC",
     "timestamp": 1693146243827
    },
    {
     "file_id": "1zDalJsXhFhJ1VQIB9mqSSXuk8kG-aNGK",
     "timestamp": 1692753158055
    }
   ],
   "toc_visible": true
  },
  "kernelspec": {
   "display_name": "Python 3 (ipykernel)",
   "language": "python",
   "name": "python3"
  },
  "language_info": {
   "codemirror_mode": {
    "name": "ipython",
    "version": 3
   },
   "file_extension": ".py",
   "mimetype": "text/x-python",
   "name": "python",
   "nbconvert_exporter": "python",
   "pygments_lexer": "ipython3",
   "version": "3.10.12"
  }
 },
 "nbformat": 4,
 "nbformat_minor": 4
}
